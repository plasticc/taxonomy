{
 "cells": [
  {
   "cell_type": "markdown",
   "metadata": {},
   "source": [
    "# PLAsTiCC v2 taxonomy\n",
    "\n",
    "_Alex Malz (GCCL@RUB)_ (add your name here)\n",
    "\n",
    "The purpose of this notebook is to outline a bitmask schema for hierarchical classes of LSST alerts.\n",
    "The bitmask corresponds to a \"best\" classification to be included in the alert.\n",
    "Each digit in the bitmask, however, corresponds to a vector of classification probabilities, confidence flags, or scores that can be used to subsample the alert stream.\n",
    "Persistent features could be queried for the subsampled objects from a separate database, which could be used for further selection."
   ]
  },
  {
   "cell_type": "code",
   "execution_count": null,
   "metadata": {},
   "outputs": [],
   "source": [
    "from treelib import Node, Tree\n",
    "import string"
   ]
  },
  {
   "cell_type": "markdown",
   "metadata": {},
   "source": [
    "## Housekeeping\n",
    "\n",
    "We need to think about how to sort through the classification information.\n",
    "`directory` and `index` are very simplistic starting points.\n",
    "It'll be easier when we have a better idea of what subsampling operations we'll perform."
   ]
  },
  {
   "cell_type": "code",
   "execution_count": null,
   "metadata": {},
   "outputs": [],
   "source": [
    "directory = {}\n",
    "index = {}"
   ]
  },
  {
   "cell_type": "markdown",
   "metadata": {},
   "source": [
    "### Generating the integer codes\n",
    "\n",
    "The idea is that every level of the tree corresponds to one digit in the bitmask.\n",
    "The number of objects in the"
   ]
  },
  {
   "cell_type": "code",
   "execution_count": null,
   "metadata": {},
   "outputs": [],
   "source": [
    "### map real to 1 and bogus to 0 - doesn't need a 0 for alert digit\n",
    "\n",
    "digs = string.digits + string.ascii_letters\n",
    "\n",
    "def int2base(x, base):\n",
    "    # \n",
    "    if x < 0:\n",
    "        sign = -1\n",
    "    elif x == 0:\n",
    "        return digs[0]\n",
    "    else:\n",
    "        sign = 1\n",
    "\n",
    "    x *= sign\n",
    "    digits = []\n",
    "\n",
    "    while x:\n",
    "        digits.append(digs[int(x % base)])\n",
    "        x = int(x / base)\n",
    "\n",
    "    if sign < 0:\n",
    "        digits.append('-')\n",
    "\n",
    "    # digits.reverse()\n",
    "\n",
    "    return ''.join(digits)"
   ]
  },
  {
   "cell_type": "markdown",
   "metadata": {},
   "source": [
    "## Building a phylogenetic tree\n",
    "\n",
    "Given the hierarchical class relationships, make a tree diagram (and record some hopefully useful information)."
   ]
  },
  {
   "cell_type": "code",
   "execution_count": null,
   "metadata": {},
   "outputs": [],
   "source": [
    "# def branch(tree, parent, children, prepend=[\"Other\"], append=None, directory=directory, index=index):\n",
    "#     level = 0\n",
    "#     tmp = parent\n",
    "#     while tree.ancestor(tmp) is not None:\n",
    "#         level += 1\n",
    "#         tmp = tree.ancestor(tmp)\n",
    "#     directory[parent] = {}\n",
    "#     if prepend is not None:\n",
    "#         proc_pre = [parent + \"/\" + pre for pre in prepend]\n",
    "#         children = proc_pre + children\n",
    "#     if append is not None:\n",
    "#         proc_app = [parent + \"/\" + appe for app in append]\n",
    "#         children = children + proc_app\n",
    "#     bigbase = len(children)\n",
    "#     for i, child in enumerate(children):\n",
    "#         directory[parent][child] = i\n",
    "#         index[child] = index[parent] + int2base(i, bigbase)# broken + index[parent]\n",
    "#         tree.create_node(index[child]+\" \"+child, child, parent=parent)\n",
    "#     print(f\"{parent} {level}\")\n",
    "# #     index[parent] = '0' + index[parent]\n",
    "#     return(bigbase, directory, index)"
   ]
  },
  {
   "cell_type": "code",
   "execution_count": null,
   "metadata": {},
   "outputs": [],
   "source": [
    "maxdep = 2\n",
    "def branch(tree, parent, children, prepend=[\"Other\"], append=None, directory=directory, index=index):\n",
    "    if prepend is not None:\n",
    "        proc_pre = [parent + \"/\" + pre for pre in prepend]\n",
    "        children = proc_pre + children\n",
    "    if append is not None:\n",
    "        proc_app = [parent + \"/\" + appe for app in append]\n",
    "        children = children + proc_app\n",
    "    tmp = parent\n",
    "    level = 0\n",
    "    while tree.ancestor(tmp) is not None:\n",
    "        level += 1\n",
    "        tmp = tree.ancestor(tmp)\n",
    "    directory[parent] = {}\n",
    "    for i, child in enumerate( children ):\n",
    "        directory[parent][child] = i\n",
    "#         print(index[parent], type(index[parent]))\n",
    "        if index[parent] != '':\n",
    "            index[child] = str(int(index[parent]) + (i+1)* 10 ** (maxdep-level))\n",
    "        else:\n",
    "            index[child] = str((i+1)* 10 ** (maxdep-level))\n",
    "        tree.create_node(index[child]+\" \"+child, child, parent=parent)"
   ]
  },
  {
   "cell_type": "markdown",
   "metadata": {},
   "source": [
    "It would be better to start with something like `directory` than to build it as we go along, but, hey, this is a hack."
   ]
  },
  {
   "cell_type": "code",
   "execution_count": null,
   "metadata": {},
   "outputs": [],
   "source": [
    "tree = Tree()\n",
    "\n",
    "# index[\"Alert\"] = ''#int2base(0, 1)\n",
    "# tree.create_node(index[\"Alert\"] + \" \" + \"Alert\", \"Alert\")\n",
    "\n",
    "# branch(tree, \"Alert\", [\"Bogus\", \"Real\"])#, prepend=[\"Unclassified\"])\n",
    "\n",
    "# index[\"Real\"] = ''#int2base(0, 1)\n",
    "# tree.create_node(index[\"Real\"] + \" \" + \"Alert/Real\", \"Real\")\n",
    "\n",
    "# branch(tree, \"Real\", [\"Static\", \"Moving\"])#, prepend=['Unclassified'])\n",
    "\n",
    "index[\"Static\"] = ''#int2base(0, 1)\n",
    "tree.create_node(index[\"Static\"] + \" \" + \"Alert/Real/Static\", \"Static\")\n",
    "\n",
    "# need spot for residual, choose not to classify -- metacategory? possibly rename to \"Flagged\"?\n",
    "index[\"Meta\"] = \"0\"# * (maxdep+1)\n",
    "tree.create_node(index[\"Meta\"] + \" Meta\", \"Meta\", parent = \"Static\")\n",
    "branch(tree, \"Meta\", [\"Residual\", \"NotClassified\"])\n",
    "\n",
    "branch(tree, \"Static\", [\"Non-Recurring\", \"Recurring\"])\n",
    "\n",
    "branch(tree, \"Recurring\", [\"Periodic\", \"Non-Periodic\"])\n",
    "\n",
    "branch(tree, \"Periodic\", [\"Cepheid\", \"RR Lyrae\", \"Delta Scuti\", \"EB\", \"LPV/Mira\"])\n",
    "\n",
    "branch(tree, \"Non-Periodic\", [\"AGN\"])\n",
    "\n",
    "branch(tree, \"Non-Recurring\", [\"SN-like\", \"Fast\", \"Long\"])\n",
    "\n",
    "branch(tree, \"SN-like\", [\"Ia\", \"Ib/c\", \"II\", \"Iax\", \"91bg\"])\n",
    "\n",
    "branch(tree, \"Fast\", [\"KN\", \"M-dwarf Flare\", \"Dwarf Novae\", \"uLens\"])\n",
    "\n",
    "branch(tree, \"Long\", [\"SLSN\", \"TDE\", \"ILOT\", \"CART\", \"PISN\"])\n",
    "\n",
    "tree.show()"
   ]
  },
  {
   "cell_type": "markdown",
   "metadata": {},
   "source": [
    "Yeah, not sure these are really useful. . ."
   ]
  },
  {
   "cell_type": "code",
   "execution_count": null,
   "metadata": {},
   "outputs": [],
   "source": [
    "print(directory)"
   ]
  },
  {
   "cell_type": "code",
   "execution_count": null,
   "metadata": {},
   "outputs": [],
   "source": [
    "print(index)"
   ]
  },
  {
   "cell_type": "markdown",
   "metadata": {},
   "source": [
    "## Building a structure for hierarchical classification\n",
    "\n",
    "The whole point of this, for me, is for the classification to have corresponding posterior probabilities, or at least confidence flags or scores, because I'd want to use them to rapidly select follow-up candidates.\n",
    "[This](https://community.lsst.org/t/projects-involving-irregularly-shaped-data/4466) looks potentially relevant.\n",
    "I guess it could also be used for packaging up additional features into an alert without bloating it up too much."
   ]
  },
  {
   "cell_type": "code",
   "execution_count": null,
   "metadata": {},
   "outputs": [],
   "source": []
  }
 ],
 "metadata": {
  "kernelspec": {
   "display_name": "DSFP (Python 3)",
   "language": "python",
   "name": "dsfp_3"
  },
  "language_info": {
   "codemirror_mode": {
    "name": "ipython",
    "version": 3
   },
   "file_extension": ".py",
   "mimetype": "text/x-python",
   "name": "python",
   "nbconvert_exporter": "python",
   "pygments_lexer": "ipython3",
   "version": "3.10.6"
  }
 },
 "nbformat": 4,
 "nbformat_minor": 4
}
