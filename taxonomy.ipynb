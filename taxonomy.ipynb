{
 "cells": [
  {
   "cell_type": "markdown",
   "metadata": {},
   "source": [
    "# PLAsTiCC v2 taxonomy\n",
    "\n",
    "_Alex Malz (GCCL@RUB)_ (add your name here)\n",
    "\n",
    "The purpose of this notebook is to outline a bitmask schema for hierarchical classes of LSST alerts.\n",
    "The bitmask corresponds to a \"best\" classification to be included in the alert.\n",
    "Each digit in the bitmask, however, corresponds to a vector of classification probabilities, confidence flags, or scores that can be used to subsample the alert stream.\n",
    "Persistent features could be queried for the subsampled objects from a separate database, which could be used for further selection."
   ]
  },
  {
   "cell_type": "code",
   "execution_count": 1,
   "metadata": {},
   "outputs": [],
   "source": [
    "from treelib import Node, Tree\n",
    "import string"
   ]
  },
  {
   "cell_type": "markdown",
   "metadata": {},
   "source": [
    "## Housekeeping\n",
    "\n",
    "We need to think about how to sort through the classification information.\n",
    "`directory` and `index` are very simplistic starting points.\n",
    "It'll be easier when we have a better idea of what subsampling operations we'll perform."
   ]
  },
  {
   "cell_type": "code",
   "execution_count": 2,
   "metadata": {},
   "outputs": [],
   "source": [
    "directory = {}\n",
    "index = {}"
   ]
  },
  {
   "cell_type": "markdown",
   "metadata": {},
   "source": [
    "### Generating the integer codes\n",
    "\n",
    "The idea is that every level of the tree corresponds to one digit in the bitmask.\n",
    "The number of objects in the"
   ]
  },
  {
   "cell_type": "code",
   "execution_count": 3,
   "metadata": {},
   "outputs": [],
   "source": [
    "### TODO Alex: Please reverse intger mask so no leading zeros\n",
    "### map real to 1 and bogus to 0 - doesn't need a 0 for alert digit\n",
    "\n",
    "digs = string.digits + string.ascii_letters\n",
    "\n",
    "def int2base(x, base):\n",
    "    if x < 0:\n",
    "        sign = -1\n",
    "    elif x == 0:\n",
    "        return digs[0]\n",
    "    else:\n",
    "        sign = 1\n",
    "\n",
    "    x *= sign\n",
    "    digits = []\n",
    "\n",
    "    while x:\n",
    "        digits.append(digs[int(x % base)])\n",
    "        x = int(x / base)\n",
    "\n",
    "    if sign < 0:\n",
    "        digits.append('-')\n",
    "\n",
    "    digits.reverse()\n",
    "\n",
    "    return ''.join(digits)"
   ]
  },
  {
   "cell_type": "markdown",
   "metadata": {},
   "source": [
    "## Building a phylogenetic tree\n",
    "\n",
    "Given the hierarchical class relationships, make a tree diagram (and record some hopefully useful information)."
   ]
  },
  {
   "cell_type": "code",
   "execution_count": 4,
   "metadata": {},
   "outputs": [],
   "source": [
    "def branch(tree, parent, children, prepend=[\"Other\"], append=None, directory=directory, index=index):\n",
    "    directory[parent] = {}\n",
    "    if prepend is not None:\n",
    "        proc_pre = [parent + \"/\" + pre for pre in prepend]\n",
    "        children = proc_pre + children\n",
    "    if append is not None:\n",
    "        proc_app = [parent + \"/\" + appe for app in append]\n",
    "        children = children + proc_app\n",
    "    bigbase = len(children)\n",
    "    for i, child in enumerate(children):\n",
    "        directory[parent][child] = i\n",
    "        index[child] = int2base(i, bigbase) + index[parent]\n",
    "        tree.create_node(index[child]+\" \"+child, child, parent=parent)\n",
    "    return(bigbase, directory, index)"
   ]
  },
  {
   "cell_type": "markdown",
   "metadata": {},
   "source": [
    "It would be better to start with something like `directory` than to build it as we go along, but, hey, this is a hack."
   ]
  },
  {
   "cell_type": "code",
   "execution_count": 5,
   "metadata": {},
   "outputs": [
    {
     "name": "stdout",
     "output_type": "stream",
     "text": [
      "0 Alert\n",
      "├── 00 Alert/Other\n",
      "├── 10 Bogus\n",
      "└── 20 Real\n",
      "    ├── 020 Real/Other\n",
      "    ├── 120 Static\n",
      "    │   ├── 0120 Static/Other\n",
      "    │   ├── 1120 Non-Recurring\n",
      "    │   │   ├── 01120 Non-Recurring/Other\n",
      "    │   │   ├── 11120 SN-like\n",
      "    │   │   │   ├── 011120 SN-like/Other\n",
      "    │   │   │   ├── 111120 Ia\n",
      "    │   │   │   ├── 211120 Ib/c\n",
      "    │   │   │   ├── 311120 II\n",
      "    │   │   │   ├── 411120 Iax\n",
      "    │   │   │   └── 511120 91bg\n",
      "    │   │   ├── 21120 Fast\n",
      "    │   │   │   ├── 021120 Fast/Other\n",
      "    │   │   │   ├── 121120 KN\n",
      "    │   │   │   ├── 221120 M-dwarf Flare\n",
      "    │   │   │   ├── 321120 Dwarf Novae\n",
      "    │   │   │   └── 421120 uLens\n",
      "    │   │   └── 31120 Long\n",
      "    │   │       ├── 031120 Long/Other\n",
      "    │   │       ├── 131120 SLSN\n",
      "    │   │       ├── 231120 TDE\n",
      "    │   │       ├── 331120 ILOT\n",
      "    │   │       ├── 431120 CART\n",
      "    │   │       └── 531120 PISN\n",
      "    │   └── 2120 Recurring\n",
      "    │       ├── 02120 Recurring/Other\n",
      "    │       ├── 12120 Periodic\n",
      "    │       │   ├── 012120 Periodic/Other\n",
      "    │       │   ├── 112120 Cepheid\n",
      "    │       │   ├── 212120 RR Lyrae\n",
      "    │       │   ├── 312120 Delta Scuti\n",
      "    │       │   ├── 412120 EB\n",
      "    │       │   └── 512120 LPV/Mira\n",
      "    │       └── 22120 Non-Periodic\n",
      "    │           ├── 022120 Non-Periodic/Other\n",
      "    │           └── 122120 AGN\n",
      "    └── 220 Moving\n",
      "\n"
     ]
    }
   ],
   "source": [
    "tree = Tree()\n",
    "\n",
    "index[\"Alert\"] = int2base(0, 1)\n",
    "tree.create_node(index[\"Alert\"] + \" \" + \"Alert\", \"Alert\")\n",
    "\n",
    "branch(tree, \"Alert\", [\"Bogus\", \"Real\"])#, prepend=[\"Unclassified\"])\n",
    "\n",
    "branch(tree, \"Real\", [\"Static\", \"Moving\"])#, prepend=['Unclassified'])\n",
    "\n",
    "branch(tree, \"Static\", [\"Non-Recurring\", \"Recurring\"])\n",
    "\n",
    "branch(tree, \"Recurring\", [\"Periodic\", \"Non-Periodic\"])\n",
    "\n",
    "branch(tree, \"Periodic\", [\"Cepheid\", \"RR Lyrae\", \"Delta Scuti\", \"EB\", \"LPV/Mira\"])\n",
    "\n",
    "branch(tree, \"Non-Periodic\", [\"AGN\"])\n",
    "\n",
    "branch(tree, \"Non-Recurring\", [\"SN-like\", \"Fast\", \"Long\"])\n",
    "\n",
    "branch(tree, \"SN-like\", [\"Ia\", \"Ib/c\", \"II\", \"Iax\", \"91bg\"])\n",
    "\n",
    "branch(tree, \"Fast\", [\"KN\", \"M-dwarf Flare\", \"Dwarf Novae\", \"uLens\"])\n",
    "\n",
    "branch(tree, \"Long\", [\"SLSN\", \"TDE\", \"ILOT\", \"CART\", \"PISN\"])\n",
    "\n",
    "tree.show()"
   ]
  },
  {
   "cell_type": "markdown",
   "metadata": {},
   "source": [
    "Yeah, not sure these are really useful. . ."
   ]
  },
  {
   "cell_type": "code",
   "execution_count": 6,
   "metadata": {},
   "outputs": [
    {
     "name": "stdout",
     "output_type": "stream",
     "text": [
      "{'Alert': {'Alert/Other': 0, 'Bogus': 1, 'Real': 2}, 'Real': {'Real/Other': 0, 'Static': 1, 'Moving': 2}, 'Static': {'Static/Other': 0, 'Non-Recurring': 1, 'Recurring': 2}, 'Recurring': {'Recurring/Other': 0, 'Periodic': 1, 'Non-Periodic': 2}, 'Periodic': {'Periodic/Other': 0, 'Cepheid': 1, 'RR Lyrae': 2, 'Delta Scuti': 3, 'EB': 4, 'LPV/Mira': 5}, 'Non-Periodic': {'Non-Periodic/Other': 0, 'AGN': 1}, 'Non-Recurring': {'Non-Recurring/Other': 0, 'SN-like': 1, 'Fast': 2, 'Long': 3}, 'SN-like': {'SN-like/Other': 0, 'Ia': 1, 'Ib/c': 2, 'II': 3, 'Iax': 4, '91bg': 5}, 'Fast': {'Fast/Other': 0, 'KN': 1, 'M-dwarf Flare': 2, 'Dwarf Novae': 3, 'uLens': 4}, 'Long': {'Long/Other': 0, 'SLSN': 1, 'TDE': 2, 'ILOT': 3, 'CART': 4, 'PISN': 5}}\n"
     ]
    }
   ],
   "source": [
    "print(directory)"
   ]
  },
  {
   "cell_type": "code",
   "execution_count": 7,
   "metadata": {},
   "outputs": [
    {
     "name": "stdout",
     "output_type": "stream",
     "text": [
      "{'Alert': '0', 'Alert/Other': '00', 'Bogus': '10', 'Real': '20', 'Real/Other': '020', 'Static': '120', 'Moving': '220', 'Static/Other': '0120', 'Non-Recurring': '1120', 'Recurring': '2120', 'Recurring/Other': '02120', 'Periodic': '12120', 'Non-Periodic': '22120', 'Periodic/Other': '012120', 'Cepheid': '112120', 'RR Lyrae': '212120', 'Delta Scuti': '312120', 'EB': '412120', 'LPV/Mira': '512120', 'Non-Periodic/Other': '022120', 'AGN': '122120', 'Non-Recurring/Other': '01120', 'SN-like': '11120', 'Fast': '21120', 'Long': '31120', 'SN-like/Other': '011120', 'Ia': '111120', 'Ib/c': '211120', 'II': '311120', 'Iax': '411120', '91bg': '511120', 'Fast/Other': '021120', 'KN': '121120', 'M-dwarf Flare': '221120', 'Dwarf Novae': '321120', 'uLens': '421120', 'Long/Other': '031120', 'SLSN': '131120', 'TDE': '231120', 'ILOT': '331120', 'CART': '431120', 'PISN': '531120'}\n"
     ]
    }
   ],
   "source": [
    "print(index)"
   ]
  },
  {
   "cell_type": "markdown",
   "metadata": {},
   "source": [
    "## Building a structure for hierarchical classification\n",
    "\n",
    "The whole point of this, for me, is for the classification to have corresponding posterior probabilities, or at least confidence flags or scores, because I'd want to use them to rapidly select follow-up candidates.\n",
    "[This](https://community.lsst.org/t/projects-involving-irregularly-shaped-data/4466) looks potentially relevant.\n",
    "I guess it could also be used for packaging up additional features into an alert without bloating it up too much."
   ]
  },
  {
   "cell_type": "code",
   "execution_count": null,
   "metadata": {},
   "outputs": [],
   "source": []
  }
 ],
 "metadata": {
  "kernelspec": {
   "display_name": "Python [conda env:yse] *",
   "language": "python",
   "name": "conda-env-yse-py"
  },
  "language_info": {
   "codemirror_mode": {
    "name": "ipython",
    "version": 3
   },
   "file_extension": ".py",
   "mimetype": "text/x-python",
   "name": "python",
   "nbconvert_exporter": "python",
   "pygments_lexer": "ipython3",
   "version": "3.7.11"
  }
 },
 "nbformat": 4,
 "nbformat_minor": 4
}
